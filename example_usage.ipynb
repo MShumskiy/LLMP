{
 "cells": [
  {
   "cell_type": "code",
   "execution_count": null,
   "metadata": {},
   "outputs": [],
   "source": []
  },
  {
   "cell_type": "markdown",
   "metadata": {},
   "source": [
    "### Usage: \n",
    "- run the fastapi via **H:\\projects\\ai_based\\LLMP> poetry run uvicorn app:app --host 0.0.0.0 --port 8000 --reload**"
   ]
  },
  {
   "cell_type": "code",
   "execution_count": null,
   "metadata": {},
   "outputs": [],
   "source": [
    "from src.utils.llmp_utils import llmp_call"
   ]
  },
  {
   "cell_type": "code",
   "execution_count": null,
   "metadata": {},
   "outputs": [],
   "source": [
    "prompt = \n",
    "system_prompt = \n",
    "temperature = \n",
    "model = \n",
    "src = \n",
    "\n",
    "response = llmp_call(prompt, system_prompt, model, temperature, src)"
   ]
  }
 ],
 "metadata": {
  "language_info": {
   "name": "python"
  }
 },
 "nbformat": 4,
 "nbformat_minor": 2
}
