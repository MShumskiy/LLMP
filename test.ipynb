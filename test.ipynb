{
 "cells": [
  {
   "cell_type": "code",
   "execution_count": 1,
   "metadata": {},
   "outputs": [
    {
     "name": "stdout",
     "output_type": "stream",
     "text": [
      "Connected to database: llmp_db\n",
      "saving data\n",
      "Generation saved to database.\n"
     ]
    }
   ],
   "source": [
    "from src.model_operator.model_operator import ModelOperatorOllama\n",
    "llmp = ModelOperatorOllama()\n",
    "response = llmp.generate_response('llama3.2:latest','','what is my name?')"
   ]
  },
  {
   "cell_type": "code",
   "execution_count": 1,
   "metadata": {},
   "outputs": [
    {
     "name": "stdout",
     "output_type": "stream",
     "text": [
      "Connected to database: llmp_db\n",
      "saving data\n",
      "Generation saved to database.\n"
     ]
    }
   ],
   "source": [
    "from src.model_operator.model_operator import ModelOperatorOllama\n",
    "llmp = ModelOperatorOllama()\n",
    "\n",
    "response = llmp.generate_response('llama3.2:latest',\n",
    "                                  '',\n",
    "                                  'what is this image?',\n",
    "                                  format=None,image=\"H:/projects/ai_based/image_generator/outputs/images_7/8_20/image_seed_42.png\")"
   ]
  },
  {
   "cell_type": "code",
   "execution_count": 3,
   "metadata": {},
   "outputs": [
    {
     "data": {
      "text/plain": [
       "{'model': 'llava:latest',\n",
       " 'created_at': '2025-02-02T10:08:20.9923687Z',\n",
       " 'message': {'role': 'assistant',\n",
       "  'content': \" This image features a person sitting at a table in a casual dining setting, likely a restaurant. The individual is wearing a dark-colored dress and has long hair. They are seated with their legs crossed, appearing relaxed or contemplative. There's a soft focus on the background that shows what seems to be an indoor area, possibly another section of the establishment, during evening hours. \"},\n",
       " 'done_reason': 'stop',\n",
       " 'done': True,\n",
       " 'total_duration': 16165414400,\n",
       " 'load_duration': 13.29,\n",
       " 'prompt_eval_count': 590,\n",
       " 'prompt_eval_duration': 0.86,\n",
       " 'eval_count': 79,\n",
       " 'eval_duration': 1.92,\n",
       " 'system_prompt': '',\n",
       " 'prompt': 'what is this image?',\n",
       " 'timestamp': '2025-02-02T10:08:04.782282',\n",
       " 'gen_id': 'llava:latest_2025-02-02T10:08:04.782282'}"
      ]
     },
     "execution_count": 3,
     "metadata": {},
     "output_type": "execute_result"
    }
   ],
   "source": [
    "response"
   ]
  },
  {
   "cell_type": "code",
   "execution_count": 1,
   "metadata": {},
   "outputs": [
    {
     "name": "stdout",
     "output_type": "stream",
     "text": [
      "Connected to database: llmp_db\n"
     ]
    },
    {
     "data": {
      "text/plain": [
       "{'llava:latest': {'model_name': 'llava:latest',\n",
       "  'param_size': '7B',\n",
       "  'quant_level': 'Q4_0'},\n",
       " 'qwen2.5:14b': {'model_name': 'qwen2.5:14b',\n",
       "  'param_size': '14.8B',\n",
       "  'quant_level': 'Q4_K_M'},\n",
       " 'phi4:latest': {'model_name': 'phi4:latest',\n",
       "  'param_size': '14.7B',\n",
       "  'quant_level': 'Q4_K_M'},\n",
       " 'deepseek-r1:14b': {'model_name': 'deepseek-r1:14b',\n",
       "  'param_size': '14.8B',\n",
       "  'quant_level': 'Q4_K_M'},\n",
       " 'llama3.2:latest': {'model_name': 'llama3.2:latest',\n",
       "  'param_size': '3.2B',\n",
       "  'quant_level': 'Q4_K_M'}}"
      ]
     },
     "execution_count": 1,
     "metadata": {},
     "output_type": "execute_result"
    }
   ],
   "source": [
    "from src.model_operator.model_operator import ModelOperatorOllama\n",
    "llmp = ModelOperatorOllama()\n",
    "llmp.list_models()"
   ]
  },
  {
   "cell_type": "code",
   "execution_count": 3,
   "metadata": {},
   "outputs": [
    {
     "data": {
      "text/plain": [
       "{'models': [{'name': 'qwen2.5:14b',\n",
       "   'model': 'qwen2.5:14b',\n",
       "   'modified_at': '2025-01-31T10:22:46.9349443Z',\n",
       "   'size': 8988124069,\n",
       "   'digest': '7cdf5a0187d5c58cc5d369b255592f7841d1c4696d45a8c8a9489440385b22f6',\n",
       "   'details': {'parent_model': '',\n",
       "    'format': 'gguf',\n",
       "    'family': 'qwen2',\n",
       "    'families': ['qwen2'],\n",
       "    'parameter_size': '14.8B',\n",
       "    'quantization_level': 'Q4_K_M'}},\n",
       "  {'name': 'phi4:latest',\n",
       "   'model': 'phi4:latest',\n",
       "   'modified_at': '2025-01-31T08:26:26.5620109Z',\n",
       "   'size': 9053116391,\n",
       "   'digest': 'ac896e5b8b34a1f4efa7b14d7520725140d5512484457fab45d2a4ea14c69dba',\n",
       "   'details': {'parent_model': '',\n",
       "    'format': 'gguf',\n",
       "    'family': 'phi3',\n",
       "    'families': ['phi3'],\n",
       "    'parameter_size': '14.7B',\n",
       "    'quantization_level': 'Q4_K_M'}},\n",
       "  {'name': 'deepseek-r1:14b',\n",
       "   'model': 'deepseek-r1:14b',\n",
       "   'modified_at': '2025-01-31T06:50:27.9349991Z',\n",
       "   'size': 8988112040,\n",
       "   'digest': 'ea35dfe18182f635ee2b214ea30b7520fe1ada68da018f8b395b444b662d4f1a',\n",
       "   'details': {'parent_model': '',\n",
       "    'format': 'gguf',\n",
       "    'family': 'qwen2',\n",
       "    'families': ['qwen2'],\n",
       "    'parameter_size': '14.8B',\n",
       "    'quantization_level': 'Q4_K_M'}},\n",
       "  {'name': 'llama3.2:latest',\n",
       "   'model': 'llama3.2:latest',\n",
       "   'modified_at': '2024-11-12T06:00:27.212815Z',\n",
       "   'size': 2019393189,\n",
       "   'digest': 'a80c4f17acd55265feec403c7aef86be0c25983ab279d83f3bcd3abbcb5b8b72',\n",
       "   'details': {'parent_model': '',\n",
       "    'format': 'gguf',\n",
       "    'family': 'llama',\n",
       "    'families': ['llama'],\n",
       "    'parameter_size': '3.2B',\n",
       "    'quantization_level': 'Q4_K_M'}}]}"
      ]
     },
     "execution_count": 3,
     "metadata": {},
     "output_type": "execute_result"
    }
   ],
   "source": [
    "import requests\n",
    "url = 'http://127.0.0.1:11435/api/'\n",
    "requests.get(f'{url}tags').json()"
   ]
  },
  {
   "cell_type": "code",
   "execution_count": 3,
   "metadata": {},
   "outputs": [],
   "source": [
    "image=\"H:/projects/ai_based/image_generator/outputs/images_18/8_2/image_seed_3.png\"\n",
    "import base64\n",
    "filepath = rf\"{image}\"\n",
    "with open(filepath, \"rb\") as image_file:\n",
    "    encoded_string = base64.b64encode(image_file.read()).decode(\"utf-8\")"
   ]
  },
  {
   "cell_type": "code",
   "execution_count": 5,
   "metadata": {},
   "outputs": [],
   "source": [
    "output_file = \"payload.txt\"  # File to save the payload\n",
    "import json\n",
    "# Save the payload to a .txt file in JSON format for readability\n",
    "with open(output_file, \"w\") as file:\n",
    "    json.dump(response[1], file, indent=4)"
   ]
  },
  {
   "cell_type": "code",
   "execution_count": null,
   "metadata": {},
   "outputs": [],
   "source": []
  }
 ],
 "metadata": {
  "kernelspec": {
   "display_name": ".venv",
   "language": "python",
   "name": "python3"
  },
  "language_info": {
   "codemirror_mode": {
    "name": "ipython",
    "version": 3
   },
   "file_extension": ".py",
   "mimetype": "text/x-python",
   "name": "python",
   "nbconvert_exporter": "python",
   "pygments_lexer": "ipython3",
   "version": "3.12.7"
  }
 },
 "nbformat": 4,
 "nbformat_minor": 2
}
